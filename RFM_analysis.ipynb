{
 "cells": [
  {
   "cell_type": "code",
   "execution_count": 181,
   "id": "6ffd08ac",
   "metadata": {},
   "outputs": [],
   "source": [
    "import pandas as pd\n",
    "from pyspark.sql.functions import *\n",
    "from pyspark.sql import SparkSession\n",
    "data = pd.read_excel('C:/Users/Анна/Downloads/online_retail.xlsx')\n",
    "data.to_csv('online_retail.csv', index=False)\n",
    "spark = SparkSession.builder \\\n",
    "      .master(\"local[1]\") \\\n",
    "      .appName(\"SparkFirst\") \\\n",
    "      .getOrCreate() \n",
    "df = spark.read.csv('online_retail.csv', header=True)\n",
    "#df.show(5)"
   ]
  },
  {
   "cell_type": "code",
   "execution_count": 182,
   "id": "59f08644",
   "metadata": {},
   "outputs": [],
   "source": [
    "def amn(Quantity,UnitPrice):\n",
    "    return Quantity*UnitPrice\n",
    "    \n",
    "#df = df.withColumn('Amount', amn(df['Quantity'], df['UnitPrice']))\n",
    "\n",
    "df = df.withColumn('InvoiceDate', date_format(df['InvoiceDate'], 'yyyy-MM-dd'))\n",
    "df = df.withColumn('InvoiceDate', to_date(df['InvoiceDate'], 'yyyy-MM-dd'))\n",
    "recency_df = df.groupBy('CustomerID').agg(max('InvoiceDate').alias('last_purchase_date'))\n",
    "recency_df = recency_df.withColumn('recency', datediff(current_date(), recency_df['last_purchase_date']))\n",
    "frequency_df = df.groupBy('CustomerID').agg(count('InvoiceNo').alias('frequency'))\n",
    "\n",
    "monetary_df = df.groupBy('CustomerID').agg(round(sum(amn(df['Quantity'], df['UnitPrice'])), 2).alias('monetary_value'))\n",
    "\n",
    "df = df.join(recency_df.select('CustomerID', 'recency'), 'CustomerID')\n",
    "df = df.join(frequency_df.select('CustomerID', 'frequency'), 'CustomerID')\n",
    "df = df.join(monetary_df.select('CustomerID', 'monetary_value'), 'CustomerID')\n",
    "#df.show(3)"
   ]
  },
  {
   "cell_type": "code",
   "execution_count": 183,
   "id": "98ce96cd",
   "metadata": {},
   "outputs": [
    {
     "name": "stdout",
     "output_type": "stream",
     "text": [
      "+----------+-------+---------+--------------+\n",
      "|CustomerID|recency|frequency|monetary_value|\n",
      "+----------+-------+---------+--------------+\n",
      "|   15039.0|   4286|     1508|      19786.44|\n",
      "|   15039.0|   4286|     1508|      19786.44|\n",
      "|   15039.0|   4286|     1508|      19786.44|\n",
      "+----------+-------+---------+--------------+\n",
      "only showing top 3 rows\n",
      "\n"
     ]
    }
   ],
   "source": [
    "RFM_data=df['CustomerID', 'recency', 'frequency', 'monetary_value']\n",
    "RFM_data.show(3)"
   ]
  },
  {
   "cell_type": "code",
   "execution_count": 184,
   "id": "507198ff",
   "metadata": {},
   "outputs": [],
   "source": [
    "import numpy as np\n",
    "\n",
    "quantiles_recency = df.approxQuantile('recency', [0.33, 0.66], 0.01) \n",
    "df = df.withColumn('recency_group',\n",
    "                   when(df['recency'] <= quantiles_recency[0], 'C')\n",
    "                   .when((df['recency'] > quantiles_recency[0]) & (df['recency'] <= quantiles_recency[1]), 'B')\n",
    "                   .otherwise('A'))\n",
    "\n",
    "quantiles_frequency = df.approxQuantile('frequency', [0.33, 0.66], 0.01)\n",
    "df = df.withColumn('frequency_group',\n",
    "                   when(df['frequency'] <= quantiles_frequency[0], 'C')\n",
    "                   .when((df['frequency'] > quantiles_frequency[0]) & (df['frequency'] <= quantiles_frequency[1]), 'B')\n",
    "                   .otherwise('A'))\n",
    "\n",
    "quantiles_monetary = df.approxQuantile('monetary_value', [0.33, 0.66], 0.01)\n",
    "df = df.withColumn('monetary_group',\n",
    "                   when(df['monetary_value'] <= quantiles_monetary[0], 'C')\n",
    "                   .when((df['monetary_value'] > quantiles_monetary[0]) & (df['monetary_value'] <= quantiles_monetary[1]), 'B')\n",
    "                   .otherwise('A'))"
   ]
  },
  {
   "cell_type": "code",
   "execution_count": 186,
   "id": "68f67981",
   "metadata": {},
   "outputs": [
    {
     "name": "stdout",
     "output_type": "stream",
     "text": [
      "+----------+\n",
      "|CustomerID|\n",
      "+----------+\n",
      "|   17865.0|\n",
      "|   17509.0|\n",
      "|   12472.0|\n",
      "|   15719.0|\n",
      "|   16843.0|\n",
      "|   13209.0|\n",
      "|   13097.0|\n",
      "|   12484.0|\n",
      "|   14800.0|\n",
      "|   12637.0|\n",
      "|   16729.0|\n",
      "|   17107.0|\n",
      "|   16745.0|\n",
      "|   15249.0|\n",
      "|   16984.0|\n",
      "+----------+\n",
      "\n"
     ]
    }
   ],
   "source": [
    "df = df.withColumn('RFM', concat_ws('', df['recency_group'], df['frequency_group'], df['monetary_group']))\n",
    "df=df.filter(df[\"RFM\"] == \"AAA\").select(\"CustomerID\").distinct()\n",
    "df.toPandas().to_csv('result.csv', header=False, index=False)\n",
    "df.show()"
   ]
  },
  {
   "cell_type": "code",
   "execution_count": null,
   "id": "c3bc5010",
   "metadata": {},
   "outputs": [],
   "source": []
  }
 ],
 "metadata": {
  "kernelspec": {
   "display_name": "Python 3 (ipykernel)",
   "language": "python",
   "name": "python3"
  },
  "language_info": {
   "codemirror_mode": {
    "name": "ipython",
    "version": 3
   },
   "file_extension": ".py",
   "mimetype": "text/x-python",
   "name": "python",
   "nbconvert_exporter": "python",
   "pygments_lexer": "ipython3",
   "version": "3.11.3"
  }
 },
 "nbformat": 4,
 "nbformat_minor": 5
}
