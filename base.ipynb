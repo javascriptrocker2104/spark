{
 "cells": [
  {
   "cell_type": "code",
   "execution_count": 3,
   "id": "ad4c0876",
   "metadata": {},
   "outputs": [
    {
     "name": "stdout",
     "output_type": "stream",
     "text": [
      "Defaulting to user installation because normal site-packages is not writeable\n",
      "Collecting pyspark\n",
      "  Using cached pyspark-3.4.1-py2.py3-none-any.whl\n",
      "Collecting py4j==0.10.9.7 (from pyspark)\n",
      "  Using cached py4j-0.10.9.7-py2.py3-none-any.whl (200 kB)\n",
      "Installing collected packages: py4j, pyspark\n",
      "Successfully installed py4j-0.10.9.7 pyspark-3.4.1\n"
     ]
    }
   ],
   "source": [
    "!pip install pyspark"
   ]
  },
  {
   "cell_type": "code",
   "execution_count": 4,
   "id": "0e6ec19f",
   "metadata": {},
   "outputs": [],
   "source": [
    "from pyspark.sql import SparkSession"
   ]
  },
  {
   "cell_type": "code",
   "execution_count": 5,
   "id": "a4eea764",
   "metadata": {},
   "outputs": [],
   "source": [
    "from pyspark.sql import Window\n",
    "from pyspark.sql.functions import *"
   ]
  },
  {
   "cell_type": "code",
   "execution_count": 8,
   "id": "43a81395",
   "metadata": {},
   "outputs": [],
   "source": [
    "data = pd.read_excel('C:/Users/Анна/Downloads/online_retail.xlsx')"
   ]
  },
  {
   "cell_type": "code",
   "execution_count": 9,
   "id": "9eacd8c6",
   "metadata": {},
   "outputs": [],
   "source": [
    "data.to_csv('online_retail.csv', index=False)"
   ]
  },
  {
   "cell_type": "code",
   "execution_count": 10,
   "id": "71a4bdf4",
   "metadata": {},
   "outputs": [],
   "source": [
    "spark = SparkSession.builder \\\n",
    "      .master(\"local[1]\") \\\n",
    "      .appName(\"SparkFirst\") \\\n",
    "      .getOrCreate() "
   ]
  },
  {
   "cell_type": "code",
   "execution_count": 11,
   "id": "8ccab28b",
   "metadata": {},
   "outputs": [],
   "source": [
    "df = spark.read.csv('online_retail.csv', header=True)"
   ]
  },
  {
   "cell_type": "code",
   "execution_count": 12,
   "id": "7a1fe757",
   "metadata": {},
   "outputs": [
    {
     "name": "stdout",
     "output_type": "stream",
     "text": [
      "541909\n"
     ]
    }
   ],
   "source": [
    "rows = df.count()\n",
    "print(rows)"
   ]
  },
  {
   "cell_type": "code",
   "execution_count": 13,
   "id": "9ef1b06a",
   "metadata": {},
   "outputs": [
    {
     "name": "stdout",
     "output_type": "stream",
     "text": [
      "4373\n"
     ]
    }
   ],
   "source": [
    "unique_cus = df.select(\"CustomerID\").distinct().count()\n",
    "print(unique_cus)"
   ]
  },
  {
   "cell_type": "code",
   "execution_count": 14,
   "id": "4bb152a1",
   "metadata": {},
   "outputs": [
    {
     "name": "stdout",
     "output_type": "stream",
     "text": [
      "United Kingdom\n"
     ]
    }
   ],
   "source": [
    "the_most_popular_country = df.groupBy('Country').count().orderBy('count', ascending=False).first()[0]\n",
    "print(the_most_popular_country)"
   ]
  },
  {
   "cell_type": "code",
   "execution_count": 15,
   "id": "3b0b0152",
   "metadata": {},
   "outputs": [
    {
     "name": "stdout",
     "output_type": "stream",
     "text": [
      "2010-12-01 08:26:00 - 2011-12-09 12:50:00\n"
     ]
    }
   ],
   "source": [
    "first_date = df.select(min('InvoiceDate')).first()[0]\n",
    "last_date = df.select(max('InvoiceDate')).first()[0]\n",
    "print(first_date+\" - \"+last_date)"
   ]
  },
  {
   "cell_type": "code",
   "execution_count": null,
   "id": "8fc0be9c",
   "metadata": {},
   "outputs": [],
   "source": []
  }
 ],
 "metadata": {
  "kernelspec": {
   "display_name": "Python 3 (ipykernel)",
   "language": "python",
   "name": "python3"
  },
  "language_info": {
   "codemirror_mode": {
    "name": "ipython",
    "version": 3
   },
   "file_extension": ".py",
   "mimetype": "text/x-python",
   "name": "python",
   "nbconvert_exporter": "python",
   "pygments_lexer": "ipython3",
   "version": "3.11.3"
  }
 },
 "nbformat": 4,
 "nbformat_minor": 5
}
